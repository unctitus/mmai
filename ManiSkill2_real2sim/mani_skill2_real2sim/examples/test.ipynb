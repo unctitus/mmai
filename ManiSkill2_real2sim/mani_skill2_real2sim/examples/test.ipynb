{
 "cells": [
  {
   "cell_type": "code",
   "execution_count": 2,
   "id": "bb74cb00",
   "metadata": {},
   "outputs": [],
   "source": [
    "# In[1]: imports\n",
    "import sapien.core as sapien\n",
    "from IPython.display import display"
   ]
  },
  {
   "cell_type": "code",
   "execution_count": null,
   "id": "8b6a7b80",
   "metadata": {},
   "outputs": [],
   "source": [
    "# replace these imports with wherever your classes live\n",
    "from my_envs import (\n",
    "    MoveNearGoogleBakedTexInSceneEnv,\n",
    "    NewSceneEnv,\n",
    ")"
   ]
  },
  {
   "cell_type": "code",
   "execution_count": 3,
   "id": "dd46cfea",
   "metadata": {},
   "outputs": [],
   "source": [
    "import numpy as np\n",
    "import gymnasium as gym\n",
    "from transforms3d.euler import euler2quat\n",
    "from sapien.core import Pose\n",
    "from mani_skill2_real2sim.envs.sapien_env import BaseEnv"
   ]
  },
  {
   "cell_type": "code",
   "execution_count": 4,
   "id": "95c3759c",
   "metadata": {},
   "outputs": [],
   "source": [
    "# List your two env IDs here\n",
    "ENV_IDS = [\n",
    "    \"MoveNearGoogleBakedTexInScene-v0\",\n",
    "    \"NewScene\",        # ← replace with your actual new‐scene ID\n",
    "]\n",
    "\n",
    "# default “CLI” settings from your script\n",
    "OBS_MODE     = None\n",
    "REWARD_MODE  = None\n",
    "CONTROL_MODE = \"arm_pd_ee_delta_pose_align_interpolate_by_planner_gripper_pd_joint_target_delta_pos_interpolate_by_planner\"\n",
    "RENDER_MODE  = \"cameras\"\n",
    "CAMERA_CFGS  = {\"add_segmentation\": False}\n",
    "\n",
    "def make_reset_options(env_id):\n",
    "    \"\"\"\n",
    "    Copy the same reset logic you had under `if names_in_env_id_fxn([\"MoveNear\"])`\n",
    "    \"\"\"\n",
    "    if \"MoveNear\" in env_id:\n",
    "        # match the hard‐coded real‐eval pose from your script\n",
    "        init_rot_quat = (\n",
    "            Pose(q=euler2quat(0, 0, -0.09))\n",
    "            * Pose(q=[0, 0, 0, 1])\n",
    "        ).q\n",
    "        return dict(\n",
    "            obj_init_options   = {\"episode_id\": 0}, \n",
    "            robot_init_options = {\n",
    "                \"init_xy\":       [0.35, 0.21],\n",
    "                \"init_rot_quat\": init_rot_quat,\n",
    "            },\n",
    "        )\n",
    "    else:\n",
    "        # no special reset options\n",
    "        return {}"
   ]
  },
  {
   "cell_type": "code",
   "execution_count": 5,
   "id": "e36f7134",
   "metadata": {},
   "outputs": [
    {
     "name": "stdout",
     "output_type": "stream",
     "text": [
      "\n",
      "=== Loading scene: MoveNearGoogleBakedTexInScene-v0 ===\n"
     ]
    },
    {
     "name": "stderr",
     "output_type": "stream",
     "text": [
      "/work/users/t/i/tis/mmai/.venv/lib/python3.11/site-packages/gymnasium/envs/registration.py:513: DeprecationWarning: \u001b[33mWARN: The environment MoveNearGoogleBakedTexInScene-v0 is out of date. You should consider upgrading to version `v1`.\u001b[0m\n",
      "  logger.deprecation(\n",
      "[2025-04-30 18:29:10.680] [svulkan2] [error] GLFW error: X11: Failed to open display 172.26.114.214:10.0\n",
      "[2025-04-30 18:29:10.680] [svulkan2] [warning] Continue without GLFW.\n"
     ]
    },
    {
     "name": "stdout",
     "output_type": "stream",
     "text": [
      "Reset info: {'scene_name': None, 'scene_offset': None, 'scene_pose': None, 'scene_table_height': 0.87, 'urdf_version': '', 'rgb_overlay_path': None, 'rgb_overlay_cameras': [], 'rgb_overlay_mode': 'background', 'disable_bad_material': False, 'episode_model_ids': ('blue_plastic_bottle', 'baked_opened_pepsi_can', 'orange'), 'episode_model_scales': [1.0, 1.0, 1.0], 'episode_source_obj_name': 'blue_plastic_bottle', 'episode_target_obj_name': 'baked_opened_pepsi_can', 'episode_source_obj_init_pose_wrt_robot_base': Pose([0.664308, 0.225808, 0.895612], [0.51431, 0.529205, -0.457088, -0.496486]), 'episode_target_obj_init_pose_wrt_robot_base': Pose([0.688933, -0.0683567, 0.872771], [0.0318171, 0.0318166, -0.706391, -0.706391]), 'episode_id': 0}\n",
      "Found 4 actors:\n",
      " • Actor(name=\"arena\", id=\"38\")\n",
      " • Actor(name=\"blue_plastic_bottle\", id=\"39\")\n",
      " • Actor(name=\"baked_opened_pepsi_can\", id=\"40\")\n",
      " • Actor(name=\"orange\", id=\"41\")\n",
      "\n",
      "=== Loading scene: NewScene ===\n",
      "Loading Overlay Image from: /work/users/t/i/tis/mmai/ManiSkill2_real2sim/data/real_inpainting/google_move_near_real_eval_1.png\n",
      "Loading Overlay Image from: /work/users/t/i/tis/mmai/ManiSkill2_real2sim/data/real_inpainting/table_env1.png\n"
     ]
    },
    {
     "name": "stderr",
     "output_type": "stream",
     "text": [
      "/work/users/t/i/tis/mmai/.venv/lib/python3.11/site-packages/gymnasium/core.py:311: UserWarning: \u001b[33mWARN: env.get_actors to get variables from other wrappers is deprecated and will be removed in v1.0, to get this variable you can do `env.unwrapped.get_actors` for environment variables or `env.get_wrapper_attr('get_actors')` that will search the reminding wrappers.\u001b[0m\n",
      "  logger.warn(\n",
      "[2025-04-30 18:29:15.399] [svulkan2] [warning] A second renderer will share the same internal context with the first one. Arguments passed to constructor will be ignored.\n"
     ]
    },
    {
     "name": "stdout",
     "output_type": "stream",
     "text": [
      "Reset info: {'scene_name': 'google_pick_coke_can_1_v4', 'scene_offset': None, 'scene_pose': None, 'scene_table_height': 0.87, 'urdf_version': 'recolor_tabletop_visual_matching_1', 'rgb_overlay_path': '/work/users/t/i/tis/mmai/ManiSkill2_real2sim/data/real_inpainting/table_env1.png', 'rgb_overlay_cameras': ['overhead_camera'], 'rgb_overlay_mode': 'background', 'disable_bad_material': False, 'episode_model_ids': ('opened_coke_can', 'opened_redbull_can', 'apple'), 'episode_model_scales': [1.0, 1.0, 1.0], 'episode_source_obj_name': 'opened_redbull_can', 'episode_target_obj_name': 'apple', 'episode_source_obj_init_pose_wrt_robot_base': Pose([0.674559, 0.0799223, 0.874034], [0.0266965, 0.0368983, -0.700547, -0.712151]), 'episode_target_obj_init_pose_wrt_robot_base': Pose([0.489765, -0.0872634, 0.844358], [0.0443316, 0.0011375, 0.0133334, -0.998927]), 'episode_id': 33}\n",
      "Found 4 actors:\n",
      " • Actor(name=\"arena\", id=\"38\")\n",
      " • Actor(name=\"opened_coke_can\", id=\"39\")\n",
      " • Actor(name=\"opened_redbull_can\", id=\"40\")\n",
      " • Actor(name=\"apple\", id=\"41\")\n"
     ]
    }
   ],
   "source": [
    "# Loop through envs, make & reset, then print actors\n",
    "for env_id in ENV_IDS:\n",
    "    print(f\"\\n=== Loading scene: {env_id} ===\")\n",
    "    env: BaseEnv = gym.make(\n",
    "        env_id,\n",
    "        obs_mode     = OBS_MODE,\n",
    "        reward_mode  = REWARD_MODE,\n",
    "        control_mode = CONTROL_MODE,\n",
    "        render_mode  = RENDER_MODE,\n",
    "        camera_cfgs  = CAMERA_CFGS,\n",
    "    )\n",
    "\n",
    "    obs, info = env.reset(options=make_reset_options(env_id))\n",
    "    print(\"Reset info:\", info)\n",
    "\n",
    "    actors = env.get_actors()  # now uses your helper\n",
    "    print(f\"Found {len(actors)} actors:\")\n",
    "    for a in actors:\n",
    "        print(\" •\", a)"
   ]
  },
  {
   "cell_type": "code",
   "execution_count": 20,
   "id": "f30ff91d",
   "metadata": {},
   "outputs": [
    {
     "name": "stdout",
     "output_type": "stream",
     "text": [
      "Visual shapes in arena:\n",
      "<sapien.core.pysapien.VulkanRigidbody object at 0x7ff71dd608f0>\n",
      " • <sapien.core.pysapien.VulkanRenderMesh object at 0x7ff71da606b0>\n",
      " • <sapien.core.pysapien.VulkanRenderMesh object at 0x7ff71dbe6330>\n"
     ]
    },
    {
     "ename": "ImportError",
     "evalue": "cannot import name 'KinematicType' from 'sapien.core' (/work/users/t/i/tis/mmai/.venv/lib/python3.11/site-packages/sapien/core/__init__.py)",
     "output_type": "error",
     "traceback": [
      "\u001b[0;31m---------------------------------------------------------------------------\u001b[0m",
      "\u001b[0;31mImportError\u001b[0m                               Traceback (most recent call last)",
      "Cell \u001b[0;32mIn[20], line 15\u001b[0m\n\u001b[1;32m     11\u001b[0m         \u001b[38;5;28;01melse\u001b[39;00m:\n\u001b[1;32m     12\u001b[0m             \u001b[38;5;66;03m# fallback to printing the mesh object itself\u001b[39;00m\n\u001b[1;32m     13\u001b[0m             \u001b[38;5;28mprint\u001b[39m(\u001b[38;5;124m\"\u001b[39m\u001b[38;5;124m •\u001b[39m\u001b[38;5;124m\"\u001b[39m, mesh)\n\u001b[0;32m---> 15\u001b[0m \u001b[38;5;28;01mfrom\u001b[39;00m\u001b[38;5;250m \u001b[39m\u001b[38;5;21;01msapien\u001b[39;00m\u001b[38;5;21;01m.\u001b[39;00m\u001b[38;5;21;01mcore\u001b[39;00m\u001b[38;5;250m \u001b[39m\u001b[38;5;28;01mimport\u001b[39;00m KinematicType, MeshGeometry\n\u001b[1;32m     16\u001b[0m \u001b[38;5;66;03m# 2) iterate its rigid bodies → collision shapes → MeshGeometry\u001b[39;00m\n\u001b[1;32m     17\u001b[0m mesh_files \u001b[38;5;241m=\u001b[39m \u001b[38;5;28mset\u001b[39m()\n",
      "\u001b[0;31mImportError\u001b[0m: cannot import name 'KinematicType' from 'sapien.core' (/work/users/t/i/tis/mmai/.venv/lib/python3.11/site-packages/sapien/core/__init__.py)"
     ]
    }
   ],
   "source": [
    "# list all visual sub-bodies / render shapes\n",
    "print(\"Visual shapes in arena:\")\n",
    "for vb in actors[0].get_visual_bodies():\n",
    "    print(vb)\n",
    "    for rs in vb.get_render_shapes():\n",
    "        mesh = rs.mesh  # correct property\n",
    "        # if this mesh was loaded from a file, it may have a `.path`\n",
    "        mesh_path = getattr(mesh, \"path\", None)\n",
    "        if mesh_path:\n",
    "            print(\" •\", mesh_path)\n",
    "        else:\n",
    "            # fallback to printing the mesh object itself\n",
    "            print(\" •\", mesh)\n",
    "\n",
    "from sapien.core import KinematicType, MeshGeometry\n",
    "# 2) iterate its rigid bodies → collision shapes → MeshGeometry\n",
    "mesh_files = set()\n",
    "for rb in actor[0].get_rigid_bodies():\n",
    "    for cs in rb.get_collision_shapes():\n",
    "        geom = cs.geometry\n",
    "        if isinstance(geom, MeshGeometry):\n",
    "            mesh_files.add(geom.filename)\n",
    "\n",
    "# 3) print out every mesh file that defines your arena\n",
    "print(\"Mesh files in arena (floor, table, walls, etc):\")\n",
    "for fn in sorted(mesh_files):\n",
    "    print(\" •\", fn)"
   ]
  },
  {
   "cell_type": "code",
   "execution_count": 21,
   "id": "5ab70136",
   "metadata": {},
   "outputs": [
    {
     "ename": "ImportError",
     "evalue": "cannot import name 'MeshGeometry' from 'sapien.core' (/work/users/t/i/tis/mmai/.venv/lib/python3.11/site-packages/sapien/core/__init__.py)",
     "output_type": "error",
     "traceback": [
      "\u001b[0;31m---------------------------------------------------------------------------\u001b[0m",
      "\u001b[0;31mImportError\u001b[0m                               Traceback (most recent call last)",
      "Cell \u001b[0;32mIn[21], line 1\u001b[0m\n\u001b[0;32m----> 1\u001b[0m \u001b[38;5;28;01mfrom\u001b[39;00m\u001b[38;5;250m \u001b[39m\u001b[38;5;21;01msapien\u001b[39;00m\u001b[38;5;21;01m.\u001b[39;00m\u001b[38;5;21;01mcore\u001b[39;00m\u001b[38;5;250m \u001b[39m\u001b[38;5;28;01mimport\u001b[39;00m MeshGeometry\n\u001b[1;32m      3\u001b[0m \u001b[38;5;66;03m# assume actors[0] is your arena actor\u001b[39;00m\n\u001b[1;32m      4\u001b[0m arena \u001b[38;5;241m=\u001b[39m actors[\u001b[38;5;241m0\u001b[39m]\n",
      "\u001b[0;31mImportError\u001b[0m: cannot import name 'MeshGeometry' from 'sapien.core' (/work/users/t/i/tis/mmai/.venv/lib/python3.11/site-packages/sapien/core/__init__.py)"
     ]
    }
   ],
   "source": [
    "from sapien.core import MeshGeometry\n",
    "\n",
    "# assume actors[0] is your arena actor\n",
    "arena = actors[0]\n",
    "\n",
    "mesh_files = set()\n",
    "for rb in arena.get_rigid_bodies():\n",
    "    for cs in rb.get_collision_shapes():\n",
    "        geom = cs.geometry\n",
    "        if isinstance(geom, MeshGeometry):\n",
    "            mesh_files.add(geom.filename)\n",
    "\n",
    "print(\"Mesh files in arena (table, floor, walls, etc):\")\n",
    "for fn in sorted(mesh_files):\n",
    "    print(\" •\", fn)"
   ]
  }
 ],
 "metadata": {
  "kernelspec": {
   "display_name": "sp",
   "language": "python",
   "name": "sp"
  },
  "language_info": {
   "codemirror_mode": {
    "name": "ipython",
    "version": 3
   },
   "file_extension": ".py",
   "mimetype": "text/x-python",
   "name": "python",
   "nbconvert_exporter": "python",
   "pygments_lexer": "ipython3",
   "version": "3.11.11"
  }
 },
 "nbformat": 4,
 "nbformat_minor": 5
}
